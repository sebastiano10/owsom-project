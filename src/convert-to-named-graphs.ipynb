{
 "metadata": {
  "name": "",
  "signature": "sha256:cc408ceb36cedac73c3d455facb7ca4d511c91e891c940e22cdac5d56e41e1be"
 },
 "nbformat": 3,
 "nbformat_minor": 0,
 "worksheets": [
  {
   "cells": [
    {
     "cell_type": "code",
     "collapsed": false,
     "input": [
      "from rdflib import Graph, URIRef, ConjunctiveGraph, Namespace, OWL\n",
      "from rdflib.plugins.memory import IOMemory\n",
      "from SPARQLWrapper import SPARQLWrapper, JSON\n",
      "import requests\n",
      "\n",
      "sparql = SPARQLWrapper('http://localhost:5820/owsom-all/query')\n",
      "\n",
      "store = IOMemory()\n",
      "cg = ConjunctiveGraph(store)\n",
      "\n",
      "OWSOM = Namespace('http://onlinesocialmeasures.hoekstra.ops.few.vu.nl/vocab/')\n",
      "cg.bind('owsom', OWSOM)\n",
      "DCT = Namespace('http://purl.org/dc/terms/')\n",
      "cg.bind('dct', DCT)\n",
      "FOAF = Namespace('http://xmlns.com/foaf/0.1/')\n",
      "cg.bind('foaf',FOAF)\n",
      "PRISM = Namespace('http://prismstandard.org/namespaces/basic/2.1/')\n",
      "cg.bind('prism', PRISM)\n",
      "BIBO = Namespace('http://purl.org/ontology/bibo/')\n",
      "cg.bind('bibo',BIBO)\n",
      "DOI = Namespace('http://dx.doi.org/')\n",
      "cg.bind('doi',DOI)\n",
      "cg.bind('owl', OWL)\n",
      "\n",
      "q1 = \"\"\"PREFIX owsom: <http://onlinesocialmeasures.hoekstra.ops.few.vu.nl/vocab/> \n",
      "\n",
      "SELECT ?paper WHERE {?study a owsom:Study . ?study owsom:describedIn ?paper .}\"\"\"\n",
      "\n",
      "old_g = Graph()\n",
      "old_g.parse('../owl-model/OWSOM-all.ttl',format='turtle')\n",
      "\n",
      "results = old_g.query(q1)\n"
     ],
     "language": "python",
     "metadata": {},
     "outputs": [],
     "prompt_number": 2
    },
    {
     "cell_type": "code",
     "collapsed": false,
     "input": [
      "for r in results:\n",
      "    paper_uri = r[0]\n",
      "    print paper_uri\n",
      "    g = Graph(store, identifier=paper_uri)\n",
      "    g.bind('doi',DOI)\n",
      "    \n",
      "    print g.compute_qname(paper_uri)\n",
      "    \n",
      "    q2 = \"\"\"PREFIX owsom: <http://onlinesocialmeasures.hoekstra.ops.few.vu.nl/vocab/> \n",
      "    \n",
      "    CONSTRUCT {{\n",
      "       ?o2 ?p3 ?o3 .\n",
      "       ?o3 ?p4 ?o4 .\n",
      "       ?o4 ?p5 ?o5 .\n",
      "       ?o5 ?p6 ?o6 . \n",
      "    }} WHERE {{\n",
      "      ?o2 owsom:describedIn <{}> .\n",
      "      OPTIONAL {{ ?o2 ?p3 ?o3 . \n",
      "        OPTIONAL {{ ?o3 ?p4 ?o4 . \n",
      "          OPTIONAL {{ ?o4 ?p5 ?o5 . \n",
      "                     OPTIONAL {{?o5 ?p6 ?o6 .}}\n",
      "                   }}\n",
      "                  }}\n",
      "                }}\n",
      "    }}\"\"\".format(paper_uri)\n",
      "    \n",
      "    results_graph = old_g.query(q2)\n",
      "    \n",
      "    g += results_graph\n"
     ],
     "language": "python",
     "metadata": {},
     "outputs": [
      {
       "output_type": "stream",
       "stream": "stdout",
       "text": [
        "http://dx.doi.org/10.1016/j.paid.2006.04.021\n",
        "('ns1', rdflib.term.URIRef(u'http://dx.doi.org/10.1016/'), u'j.paid.2006.04.021')\n",
        "http://dx.doi.org/10.1016/j.paid.2009.05.001"
       ]
      },
      {
       "output_type": "stream",
       "stream": "stdout",
       "text": [
        "\n",
        "('ns1', rdflib.term.URIRef(u'http://dx.doi.org/10.1016/'), u'j.paid.2009.05.001')\n",
        "http://dx.doi.org/10.1016/j.janxdis.2006.12.005"
       ]
      },
      {
       "output_type": "stream",
       "stream": "stdout",
       "text": [
        "\n",
        "('ns1', rdflib.term.URIRef(u'http://dx.doi.org/10.1016/'), u'j.janxdis.2006.12.005')\n"
       ]
      }
     ],
     "prompt_number": 3
    },
    {
     "cell_type": "markdown",
     "metadata": {},
     "source": [
      "*Be sure to serialize Trig twice because of a bug in the namespace prefix generation for named graphs*"
     ]
    },
    {
     "cell_type": "code",
     "collapsed": false,
     "input": [
      "with open('../owl-model/graph-aware-model.nq','w') as f :\n",
      "    cg.serialize(f, format='nquads')"
     ],
     "language": "python",
     "metadata": {},
     "outputs": [],
     "prompt_number": 6
    },
    {
     "cell_type": "code",
     "collapsed": false,
     "input": [
      "with open('../owl-model/graph-aware-model.trig','w') as f :\n",
      "    cg.serialize(f, format='trig')"
     ],
     "language": "python",
     "metadata": {},
     "outputs": [],
     "prompt_number": 7
    },
    {
     "cell_type": "code",
     "collapsed": false,
     "input": [],
     "language": "python",
     "metadata": {},
     "outputs": []
    }
   ],
   "metadata": {}
  }
 ]
}